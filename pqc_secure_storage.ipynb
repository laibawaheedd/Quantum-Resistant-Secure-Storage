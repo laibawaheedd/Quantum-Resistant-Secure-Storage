{
  "cells": [
    {
      "cell_type": "markdown",
      "metadata": {
        "id": "-rYy4Nn5X34X"
      },
      "source": [
        "# **PQC Implementation**\n",
        "\n",
        "* Explored solutions to the problem of secure storage of data.\n",
        "* Implemented data encryption and suitable key management (secure way to share key) architecture in software.\n",
        "* Produced the encrypted backup of files and folders.\n",
        "* Implemented encryption/decryption of files using separate keys for two different users.\n"
      ]
    },
    {
      "cell_type": "markdown",
      "metadata": {
        "id": "MudMCguJA4Ow"
      },
      "source": [
        "### **Explanation**\n",
        "\n",
        "*   Key Management: Kyber-KEM\n",
        "*   Encrpted Backup: Google Drive\n",
        "*   Encryption/Decryption: AES\n",
        "*   Digital Signature: SPHINCS+\n",
        "\n",
        "AES in GCM mode ensures confidentiality and authenticity while SPHINCS+ ensures the integrity."
      ]
    },
    {
      "cell_type": "code",
      "execution_count": null,
      "metadata": {
        "id": "JxqZLfjH2kSY",
        "colab": {
          "base_uri": "https://localhost:8080/"
        },
        "outputId": "38fe4210-cf5e-4a86-c2e6-8788e17700e7"
      },
      "outputs": [
        {
          "output_type": "stream",
          "name": "stdout",
          "text": [
            "Mounted at /content/drive\n"
          ]
        }
      ],
      "source": [
        "# mount google drive\n",
        "\n",
        "from google.colab import drive\n",
        "drive.mount('/content/drive')"
      ]
    },
    {
      "cell_type": "code",
      "execution_count": null,
      "metadata": {
        "id": "d0ohsZqG4rup"
      },
      "outputs": [],
      "source": [
        "import os\n",
        "os.chdir('/content/drive/MyDrive/Task2')"
      ]
    },
    {
      "cell_type": "markdown",
      "metadata": {
        "id": "8rlQ_j92_A-Z"
      },
      "source": [
        "## **Kyber Key Sharing**\n",
        "\n",
        "A Key-Encapsulation Mechanism (KEM) is used to securely share key between two parties.\n",
        "\n",
        "References:\n",
        "\n",
        "https://pypi.org/project/kyber-py/\n",
        "\n",
        "https://github.com/GiacomoPope/kyber-py"
      ]
    },
    {
      "cell_type": "code",
      "execution_count": null,
      "metadata": {
        "id": "FS8Cv00xmMF4",
        "colab": {
          "base_uri": "https://localhost:8080/"
        },
        "outputId": "5dd298f2-8a5a-4301-931a-ce38cd6eaff3"
      },
      "outputs": [
        {
          "output_type": "stream",
          "name": "stdout",
          "text": [
            "Collecting kyber-py\n",
            "  Downloading kyber_py-0.2.2-py3-none-any.whl.metadata (9.7 kB)\n",
            "Collecting pycryptodome==3.14.1 (from kyber-py)\n",
            "  Downloading pycryptodome-3.14.1-cp35-abi3-manylinux2010_x86_64.whl.metadata (3.2 kB)\n",
            "Downloading kyber_py-0.2.2-py3-none-any.whl (21 kB)\n",
            "Downloading pycryptodome-3.14.1-cp35-abi3-manylinux2010_x86_64.whl (2.0 MB)\n",
            "\u001b[2K   \u001b[90m━━━━━━━━━━━━━━━━━━━━━━━━━━━━━━━━━━━━━━━━\u001b[0m \u001b[32m2.0/2.0 MB\u001b[0m \u001b[31m33.1 MB/s\u001b[0m eta \u001b[36m0:00:00\u001b[0m\n",
            "\u001b[?25hInstalling collected packages: pycryptodome, kyber-py\n",
            "Successfully installed kyber-py-0.2.2 pycryptodome-3.14.1\n"
          ]
        }
      ],
      "source": [
        "!pip install kyber-py"
      ]
    },
    {
      "cell_type": "code",
      "execution_count": null,
      "metadata": {
        "id": "IUuccdOF_kxg"
      },
      "outputs": [],
      "source": [
        "from kyber import Kyber512\n",
        "\n",
        "def kyber_key_sharing():\n",
        "  print(\"--------------------------\")\n",
        "  print(\"*** User A Key Sharing ***\")\n",
        "  print(\"-------------------------- \\n\")\n",
        "\n",
        "  # kyber key sharing for user A\n",
        "  print(\"A generates public-private key pair \\n\")\n",
        "\n",
        "  # public (pkA) and private (skA) key\n",
        "  pkA, skA = Kyber512.keygen()\n",
        "\n",
        "  print(\"A sends public key over the internet \\n\")\n",
        "  print(\"Public Key: \", pkA)\n",
        "\n",
        "  print(\"B recieves A's public key, generates cipher text and shared key \\n\")\n",
        "\n",
        "  cA, keyA = Kyber512.enc(pkA)\n",
        "\n",
        "  print(\"B sends cipher text to A \\n\")\n",
        "  print(\"Cipher Text: \", cA)\n",
        "\n",
        "  print(\"A recieves cipher text, generates same shared key \\n\")\n",
        "\n",
        "  _keyA = Kyber512.dec(cA, skA)\n",
        "\n",
        "  if keyA == _keyA:\n",
        "    print(\"A's key sharing successful \\n\")\n",
        "\n",
        "  else:\n",
        "    print(\"A's key sharing failed \\n\")\n",
        "\n",
        "  print(\"--------------------------\")\n",
        "  print(\"*** User B Key Sharing ***\")\n",
        "  print(\"-------------------------- \\n\")\n",
        "\n",
        "  # kyber key sharing for user\n",
        "  print(\"B generates public-private key pair \\n\")\n",
        "\n",
        "  # public (pkB) and private (skB) key\n",
        "  pkB, skB = Kyber512.keygen()\n",
        "\n",
        "  print(\"B sends public key over the internet \\n\")\n",
        "  print(\"Public Key: \", pkB)\n",
        "\n",
        "\n",
        "  print(\"A recieves B's public key, generates cipher text and shared key \\n\")\n",
        "\n",
        "  cB, keyB = Kyber512.enc(pkB)\n",
        "\n",
        "  print(\"A sends cipher text to B \\n\")\n",
        "  print(\"Cipher Text: \", cB)\n",
        "\n",
        "\n",
        "  print(\"B recieves cipher text, generates same shared key \\n\")\n",
        "\n",
        "  _keyB = Kyber512.dec(cB, skB)\n",
        "\n",
        "  if keyB == _keyB:\n",
        "    print(\"B's Key sharing successful \\n\")\n",
        "\n",
        "  else:\n",
        "    print(\"B's Key sharing failed \\n\")\n",
        "\n",
        "  return keyA, keyB"
      ]
    },
    {
      "cell_type": "markdown",
      "metadata": {
        "id": "bjf9JVwTwMYR"
      },
      "source": [
        "## **AES Encryption Function**"
      ]
    },
    {
      "cell_type": "code",
      "execution_count": null,
      "metadata": {
        "id": "GoigZUNYUjIy",
        "colab": {
          "base_uri": "https://localhost:8080/"
        },
        "outputId": "da76740b-3861-4c48-9fe8-cba5d0a0d7a8"
      },
      "outputs": [
        {
          "output_type": "stream",
          "name": "stdout",
          "text": [
            "Collecting pycryptodomex==3.18.0\n",
            "  Downloading pycryptodomex-3.18.0-cp35-abi3-manylinux_2_17_x86_64.manylinux2014_x86_64.whl.metadata (3.4 kB)\n",
            "Downloading pycryptodomex-3.18.0-cp35-abi3-manylinux_2_17_x86_64.manylinux2014_x86_64.whl (2.1 MB)\n",
            "\u001b[?25l   \u001b[90m━━━━━━━━━━━━━━━━━━━━━━━━━━━━━━━━━━━━━━━━\u001b[0m \u001b[32m0.0/2.1 MB\u001b[0m \u001b[31m?\u001b[0m eta \u001b[36m-:--:--\u001b[0m\r\u001b[2K   \u001b[91m━━━━━━━━━\u001b[0m\u001b[90m╺\u001b[0m\u001b[90m━━━━━━━━━━━━━━━━━━━━━━━━━━━━━━\u001b[0m \u001b[32m0.5/2.1 MB\u001b[0m \u001b[31m15.5 MB/s\u001b[0m eta \u001b[36m0:00:01\u001b[0m\r\u001b[2K   \u001b[90m━━━━━━━━━━━━━━━━━━━━━━━━━━━━━━━━━━━━━━━━\u001b[0m \u001b[32m2.1/2.1 MB\u001b[0m \u001b[31m32.1 MB/s\u001b[0m eta \u001b[36m0:00:00\u001b[0m\n",
            "\u001b[?25hInstalling collected packages: pycryptodomex\n",
            "Successfully installed pycryptodomex-3.18.0\n"
          ]
        }
      ],
      "source": [
        "!pip install pycryptodomex==3.18.0"
      ]
    },
    {
      "cell_type": "markdown",
      "source": [
        "**SPHINCS+ Digital Signature**\n",
        "\n",
        "Reference:\n",
        "\n",
        "https://github.com/sphincs/pyspx"
      ],
      "metadata": {
        "id": "NMy4c9UGswMv"
      }
    },
    {
      "cell_type": "code",
      "source": [
        "!pip install pyspx"
      ],
      "metadata": {
        "id": "ym2cqqwjEUEG",
        "colab": {
          "base_uri": "https://localhost:8080/"
        },
        "outputId": "44df271a-c103-4c04-dc69-a5cab9515acb"
      },
      "execution_count": null,
      "outputs": [
        {
          "output_type": "stream",
          "name": "stdout",
          "text": [
            "Collecting pyspx\n",
            "  Downloading PySPX-0.5.0-cp311-cp311-manylinux_2_17_x86_64.manylinux2014_x86_64.manylinux_2_28_x86_64.whl.metadata (10 kB)\n",
            "Requirement already satisfied: cffi>=1.0.0 in /usr/local/lib/python3.11/dist-packages (from pyspx) (1.17.1)\n",
            "Requirement already satisfied: pycparser in /usr/local/lib/python3.11/dist-packages (from cffi>=1.0.0->pyspx) (2.22)\n",
            "Downloading PySPX-0.5.0-cp311-cp311-manylinux_2_17_x86_64.manylinux2014_x86_64.manylinux_2_28_x86_64.whl (1.4 MB)\n",
            "\u001b[?25l   \u001b[90m━━━━━━━━━━━━━━━━━━━━━━━━━━━━━━━━━━━━━━━━\u001b[0m \u001b[32m0.0/1.4 MB\u001b[0m \u001b[31m?\u001b[0m eta \u001b[36m-:--:--\u001b[0m\r\u001b[2K   \u001b[91m━━━━━━━━━━━━━━━━━━━━━━━\u001b[0m\u001b[90m╺\u001b[0m\u001b[90m━━━━━━━━━━━━━━━━\u001b[0m \u001b[32m0.8/1.4 MB\u001b[0m \u001b[31m22.0 MB/s\u001b[0m eta \u001b[36m0:00:01\u001b[0m\r\u001b[2K   \u001b[90m━━━━━━━━━━━━━━━━━━━━━━━━━━━━━━━━━━━━━━━━\u001b[0m \u001b[32m1.4/1.4 MB\u001b[0m \u001b[31m20.5 MB/s\u001b[0m eta \u001b[36m0:00:00\u001b[0m\n",
            "\u001b[?25hInstalling collected packages: pyspx\n",
            "Successfully installed pyspx-0.5.0\n"
          ]
        }
      ]
    },
    {
      "cell_type": "code",
      "source": [
        "import pyspx.shake_128f as sphincs\n",
        "import os, binascii\n",
        "\n",
        "# key generation\n",
        "seed = os.urandom(sphincs.crypto_sign_SEEDBYTES)\n",
        "public_key, secret_key = sphincs.generate_keypair(seed)\n",
        "\n",
        "print(\"Public key: \", binascii.hexlify(public_key))\n",
        "print(\"Private key: \", binascii.hexlify(secret_key))\n"
      ],
      "metadata": {
        "id": "OECmW7jbwvlp",
        "colab": {
          "base_uri": "https://localhost:8080/"
        },
        "outputId": "7c0154a5-d705-4813-cb9c-5519916838a8"
      },
      "execution_count": null,
      "outputs": [
        {
          "output_type": "stream",
          "name": "stdout",
          "text": [
            "Public key:  b'1e74c805841f0fb50fe9cc7fc18f7595dff8815c966b959878143d505740af4b'\n",
            "Private key:  b'b749e6565914047e1590750d3a6ce1c2eddec6f01aa84e835d09b2b2222c3e561e74c805841f0fb50fe9cc7fc18f7595dff8815c966b959878143d505740af4b'\n"
          ]
        }
      ]
    },
    {
      "cell_type": "code",
      "source": [
        "from Cryptodome.Cipher import AES\n",
        "import os\n",
        "import base64\n",
        "\n",
        "# definine backup folder path\n",
        "BACKUP_FOLDER = '/content/drive/MyDrive/Task2/backup/'\n",
        "\n",
        "os.makedirs(BACKUP_FOLDER, exist_ok=True)\n",
        "\n",
        "# open the file to encrypt in \"binary read mode\" so the file content is read exactly they are\n",
        "def encrypt_file(filename, user, key):\n",
        "  with open(filename, 'rb') as file:\n",
        "    plain = file.read()\n",
        "\n",
        "  # generate SPHINCS+ digital signature\n",
        "  signature = sphincs.sign(plain, secret_key)\n",
        "  print(\"Signature: \", binascii.hexlify(signature)) # converts to hexadecimal format\n",
        "  print(\"\")\n",
        "\n",
        "  # initialize AES in GCM mode with the Kyber key\n",
        "  aes_cipher = AES.new(key, AES.MODE_GCM) # initialises cipher object\n",
        "  nonce = aes_cipher.nonce\n",
        "  ciphertext, tag = aes_cipher.encrypt_and_digest(plain) # encrypts plaintext\n",
        "\n",
        "  # output file saved in backup\n",
        "  output_filename = os.path.join(BACKUP_FOLDER, os.path.basename(filename) + '.enc')\n",
        "\n",
        "  # choose keys according to user\n",
        "  if user == 'A':\n",
        "    label = 'keyA'\n",
        "  elif user == 'B':\n",
        "    label = 'keyB'\n",
        "  else:\n",
        "    print(\"Invalid user \\n\")\n",
        "    return\n",
        "\n",
        "  # open the file in \"binary write mode\"\n",
        "  with open(output_filename, 'wb') as output_file:\n",
        "    encoded_label = base64.b64encode(label.encode()) + b'\\n'\n",
        "    output_file.write(encoded_label)\n",
        "    output_file.write(nonce)\n",
        "    output_file.write(tag)\n",
        "    output_file.write(signature)\n",
        "    output_file.write(ciphertext)\n",
        "\n",
        "  print(f\"Encryption Successfull \\n\")\n",
        "  print(f\"Encrypted file saved as {output_filename} \\n\")\n"
      ],
      "metadata": {
        "id": "tEKfrUbGIhKI"
      },
      "execution_count": null,
      "outputs": []
    },
    {
      "cell_type": "markdown",
      "metadata": {
        "id": "UL4nn3XcwQyy"
      },
      "source": [
        "## **AES Decryption Function**"
      ]
    },
    {
      "cell_type": "code",
      "source": [
        "from Cryptodome.Cipher import AES\n",
        "import os\n",
        "\n",
        "# define local folder path\n",
        "LOCAL_FOLDER = '/content/'\n",
        "os.makedirs(LOCAL_FOLDER, exist_ok=True)\n",
        "\n",
        "# function to decrypt a file\n",
        "def decrypt_file(filename, keyA, keyB, public_key):\n",
        "  with open(filename, 'rb') as file:\n",
        "    encoded_label = file.readline().strip()\n",
        "    label = base64.b64decode(encoded_label).decode()\n",
        "    nonce = file.read(16)\n",
        "    tag = file.read(16)\n",
        "    signature = file.read(sphincs.crypto_sign_BYTES)  # SPHINCS+ signature\n",
        "    ciphertext = file.read()\n",
        "\n",
        "  # initialize the AES cipher based on the label\n",
        "  if label == 'keyA':\n",
        "    aes_cipher = AES.new(keyA, AES.MODE_GCM, nonce=nonce)\n",
        "  elif label == 'keyB':\n",
        "    aes_cipher = AES.new(keyB, AES.MODE_GCM, nonce=nonce)\n",
        "  else:\n",
        "    print(\"Invalid label \\n\")\n",
        "    return\n",
        "\n",
        "  try:\n",
        "    plain = aes_cipher.decrypt_and_verify(ciphertext, tag)\n",
        "    print(\"Decryption successful \\n\")\n",
        "\n",
        "  except ValueError as e:\n",
        "    print(\"Decryption failed: \", e)\n",
        "    return\n",
        "\n",
        "  # sphincs+ verification\n",
        "  if sphincs.verify(plain, signature, public_key):\n",
        "    print(\"Digital Signature verified\")\n",
        "    print(\"Data has not been tampered \\n\")\n",
        "\n",
        "  else:\n",
        "    print(\"Digital Signature not verified \\n\")\n",
        "    print(\"Data has been tampered \\n\")\n",
        "    return\n",
        "\n",
        "  # define the decrypted output filename\n",
        "  output_filename = os.path.join(LOCAL_FOLDER, os.path.basename(filename)[:-4] + '.dec')\n",
        "\n",
        "  # save the decrypted data to a new file\n",
        "  with open(output_filename, 'wb') as output_file:\n",
        "    output_file.write(plain)\n",
        "\n",
        "  print(f\"Decrypted file saved as {output_filename} \\n\")\n"
      ],
      "metadata": {
        "id": "aYo0jMaqI1J4"
      },
      "execution_count": null,
      "outputs": []
    },
    {
      "cell_type": "markdown",
      "metadata": {
        "id": "DGJhs30-wV8p"
      },
      "source": [
        "## **Main Program**"
      ]
    },
    {
      "cell_type": "code",
      "execution_count": null,
      "metadata": {
        "id": "rnQ8LBMwv8dW",
        "colab": {
          "base_uri": "https://localhost:8080/"
        },
        "outputId": "2d307d64-cf38-4462-eeba-33f2a157ccfb"
      },
      "outputs": [
        {
          "output_type": "stream",
          "name": "stdout",
          "text": [
            "------------------------------------\n",
            "*** FILE ENCRYPTION & DECRYPTION *** \n",
            "------------------------------------\n",
            "\n",
            "Kyber Key Sharing \n",
            "\n",
            "--------------------------\n",
            "*** User A Key Sharing ***\n",
            "-------------------------- \n",
            "\n",
            "A generates public-private key pair \n",
            "\n",
            "A sends public key over the internet \n",
            "\n",
            "Public Key:  b'\\xfex\\xbab\\x01S5\\xd5\\x9b\\\\[\\x8fu\\xa1\\t\\xcfi\\x02|k\\x10.\\xabo\\nC\\x0c\\xa3L\\xc3\\x0e\\xf6\\xcb\\xba\\x84\\x80\\xa5%\\x97\\xebRa!ia\\x84\\x17DQs\\x8b`6\\xbf]\\xa6\\xa1+,\\x17\\x84\\xd5\\x83JZ0\\xf0Dj\\x87x)\\t\\xc8\\xb9x\\xd3\\x8e\\xa28m\\x85\\xc0LO\\x8ch,c\"o\\x99\\xaf\\xcd\\n.\\xd0\\xf2\\x1c\\x9bk\\xb1 \"9zU\\x96\\xe4\\x19\\x0cq\\xfb<E\\xda\\xc4\\xf4\\xfb\\x86\\xf9j\\x0e\\xc0\\xe5\\xa7\\xcf\\xb4(\\xd0\\xd6\\x905\\xe1\\xc8,pN\\xb7\\xf7)\\xfd{\\xb8\\xed\\xb2\\xb6\\xf7\\xf5\\x19\\xea\\xbaE6\\x08\\x95\\x05kX\\xca@+\\x0b\\xdc5\\xdf\\x9c\\xc2%\\x87\\x07\\xa4I\"\\xfcR4r\\xa0/\\xabyIIu\\x84\\xd9\\xa3\\x1d\\xc7\\xba\\x1ajQ\\xa3K\\xe7\\x9f\\xedV\\xb1kY%~w\\xad\\xdf\\xd8\\x8a\\xbcp\\x91\\x8c\\x0b\\x90\\xdbiP\\x85q\\xbd\\xe3\\xf7\\xcb\\xdag\\xbc\\xc2P8$\\xda\\x04\\x17\\x93M\\xe2\\x10n\\x16\\xbb\\xaa\\x02\\xb3,c\\x88]Zt7\\x1cz/%\\xf9\\xbb\\xfb\\xb8\\x15\\xcd\\xf9.\\xca\\xd9\\xab\\xfaI\\x0c\\xe6\\xa7\\xc1\\xbd:\\xa6\\xf3I)b\\x99\\xcb\\nS\\x03c6\\xbc6\\x97,[\\x86;\\xb9\\xc7\\xab\\x88\\xd1t\\xc6\\x82\\x80\\x98\\x83\\xae.\\x98\\x9d\\xe3,;K\\x97\\x84\\xfeFPe\\xca\\x8ew\\'\\x93OVv\\xe8\\x97\\xc8\\x00\\xa0\\x16\\xc0\\x06\\xac\\xaa\\xe0Df6\\xc1/\\xf0\\xb16\\xe3\\x85\\xa0\"I\\x9e\\xc6a#\\xe2\\xad\\xd0\\'\\xc9\\xedAL\\x05\\x96r\\x89G\\xa2\\x07\\xf7X\\x16\\x03l\\xd6\\xab\\xa2\\xb8\\xe8\\xcaYS\\xbc\\xd2c\\xa8/\\x18\\x9cv[\\x05\\x93@~\\x16\\xa6\\x81\\x0b`\\x80\\xe3s\\xc75\\x0br?bD\\xbf\\x9c\\xc5\\x86A*\\x96\\n&\\xad\\xb06e\\x89\\xcc\\x83\\x05\\x1c\\xa7\\x15-\\xbf\\xab\\xc4E!,\\xe7\\x95\\xa9\\xe0u\\xbf\\x1c\\x03\\x9f\\xa2\\x96\\xbcMr\\xb0\\xcc\\x85s\\xa6x8\\x03\\xe4\\xc4\\x8aY\\x84\\xa2C;\\xe9v\\x88\\x07\\xb2gc\\xcc\\x12\\xdf+\\xccX \\xc3\\x8a\\xa5\\xb0UX\\x0b\\xa7\\x87#\\x12u>\\xadT\\x13l\\xd3\\x18\\xf7\\x93\\xba\\x068\\x14\\xb2\\x91\\x8b\\xc4\\xcb\\xc2\\xa73[\\x9dBy\\xde\\x08K\\xfb\\x92\\x81q\\x8c\\x9ejB[\\x02\\xa98\\x7f\\t\\xae\\xbe\\x02\\xab\\xce\\xd6D\\xf5\\\\!\\xa7\\xf5:\\x9d\\xd59u\\xd4+\\xad\\x00\\xb6\\xf4\\x1c\\xccx\\xec\\x93\\x9d\\xc6\\x036\\xb8r\\xc3\\x9c\\xbc\\xd8\\x16\\x96z5\\x8cs\\xb0\\xc6.C\\x0c\\xf5\\x04x3\\x1c\\x7f\\xfa\\xbc\\x14\\x9a`\\x07&\\xb5,t\\x89[\\xfe\\xc0s\\r\\\\\\x8f>\\xf9\\x05\\xb2\\x1b\\x12,\\xd2.W\\x05<\\xcc\\xb0\\xbcPw^!\\xaa-nk\\x8cw\\xa7D\\x80!mjd!=V\\xb1\\xabC8IS\\x8e\\xa6\\x06\\xa5,\\x05\\x8f1\\x07\\xbe\\rx\\xa8 h\\xa3o\\xe3Pf\\xd3\\xceZy^\\xd4\\\\\\x97\\xa3\\xc9\\x198\\x95\\x96\\xd1\\x0c\\x9d\\xb8\\'+\\\\w\\x04\\xb2jt4;\\xc8\\xd1+\\x19>I\\x9c\\xc0\\xa8o\\xb3\\'\\xbb\\xcb)\\xc8\\x93i\\x15\\xfc\\\\C\\x0f\\x88c\\x98\\xc2j\\xe2\\xdcR\\x8c\\xc97LT\"\\xd0\\xa3\\xbcE&\\x9c\\xbf\\xa9\\xb22\\x85\\xceK\\xf9\\x03\\x82\\x00\\x9e\\n\\xe1\\x87T\\xd0\\x9cl\\xb9Dm\\x1bz\\xd9\\x9a\\xa1\\x91[\\xd5\\x9f\\xac\\xdeLf\\x0e\\xbf\\'\\xec\\x15>\\x92\\xe8\\xec\\xaa\\xbd\\xba\\x15\\xb2L\\xd3\\xa4\\xaf\\x12\\xa9\\x18\\x05\\xcb\\xec'\n",
            "B recieves A's public key, generates cipher text and shared key \n",
            "\n",
            "B sends cipher text to A \n",
            "\n",
            "Cipher Text:  b'rz\\xee\\xa9\\xbd\\x89u\\x81\\xfe\\xed4*H\\xcc\\x02\\xbd|9s\\xf1\\xa4\\x80\\x8aZ\\nY\\xde\\xca\\xe3\\xa9Q\\x81\\xc7\\xc1\\xa5\\x1d,E\\x83[3\\x935\\xa8I\\xd5\\x04\\x93\\xfc\\xdf-\\x83\\xd9\\x10\\x95\\xb1\\xdc\\x81\\xb4K/u\\x00\\x8c\\xae\\xc2\\xf7\\xe2\\xa1\\tnN\\xd2\\x9fA\\x9es\\x86\\xad\\x19\\x99\\xc2Q\\xcf\\xa4g\\x83\\x1c\\xcfh\\xce\\x10g\\x96\\x99\\xdeiI\\xb3\\xd7\\xff\\x1e\\xec\\x82!\\x9f\\x1e\\x95\\x81\\xa8>k\\x80@\\xd1Q\\xb3\\xae#c\\x88IE\\x9f]\\xdb`\\xa3\\xcc\\x8f\\xd2\\x13\\xe19S(\\xb6t@\\xdc\\xd3-\\xfd#f\\xf8\\xc3u;\\x91\\x9c\\xf4\\xcb\\xe4VP\\xa6.R>\\xcb\\x1e5\\xf1\\xe9\\xf1C\\x8c\\'\\xed\\xf0\\x94v\\xa1\\x1fn\\x95K+\\xddm\\xf7\\x16\\xadU\\xdb#\\x91\\x96+r\\xb1\\xf8I\\xa6\\xfc\\xfa\\xf0F\\t\\x1bpZ\\xe3\\xa2o\\x1a\\xd3\\r@\\xe6\\x93\\x06\\xc0\\xc9e\\x08\\xb3\\xf62\\xf6\\xe1@HN\\x8d\\xba\\xc8\\x14\\xbc~\\xb9\\xfc\\x03&FW\\xca\\x83\\x11\\x15\\xf3^\\xacc&\\xb6\\xeb|v\\x8b/\\x15d\\x12\\xcf\\xe4\\xc9\\xb8\\xe4\\xd6Ug\\xcdfb0\\xa0\\xc9G\\x18\\x1b\\xb9=\\xda\\xfd\\x97\\t\\xeew,\\\\\\xad\\xc9\\xb5\\x858\\xf2\\xec\\x17\\x8f\\xba\\x10\\xecF\\xfb)hT\\x89\\x90\\x10\\x92\\xab\\xf5\\xbd\\xaajD\\x05V\\xee\\x9faT\\xa1a\\xff\\x9e.\\xbaK\\xd5\\t`\\xa8\\x97\\x1f\\xc5\\xd4\\xe9`\\x9e\\xdcJ\\xeby\\x1c\" v\\x9d9\\xd88\\xfe\\x13]\\xf4s\\xb50ev\\x0f9\\x8e\\xbd,\\xac\\xdbB\\xad\\x84\\xcc\\xa0 \\x17\\x82\\x10\\x0b\\x95lR\\x08\\xb1\\x0f\\xc8\\xcdw\\xc0E\\x07\\x8d\\xb3\\x1d\\xf1\\xde\\xe8\\x1d\\xfa\\x03<\\x9e\\xca\\xfab\\x81_\\xdc\\xe4\\xa2o\\xa9CN\\xe3\\xb0\\x88)6\\xae_\\x1fx\\xd0&\\x99\\xa2\\x97[\\x15\\x95c\\xa9\\x81G[B,d\\xd1\\xef`\\x02s\\xc3\\x18\\tj\\t|X3\\xc0\\x01\\x15\\x1d\\'\\xf8\\x92\\x9c?}\\r\\xe2e=\\x17\\x86\\xb1\\x0baZe-\\xd4 \\x98C\\xb8\\x1b\\x98J\\xd1\"\\xde\\xf6\\x83@|\\xcd\\xfe\\xfeM\\n\\xeczG\\xc0\\xfc\\xe7\\x132\\x91UL\\x9c\\xa6\\xbcO\\xa46\\xfd\\xea\\x0c\\xe6<\\xab\\x19\\x111\\xdfvHg\\xc8A0\\xff&n5\\x88\\xfc9G4\\xd9\\x1dD(/z\\x92\\xed\\xe6\\xdf}42\\xe0\\xc7\\xa6\\x1b\\xdbp\\x9a\\x94\\xcf\\x9d^\\xb0\\x0f}&`b\\x04\\xee\\x12\\xe5\\x0b\\x82\\x8c\\x03r\\x89\\x98\\xb9\\x04SY\\xce\\xa7$=\\x9b0>Q\\xc2I$\\x97\\x7f-e\\x12\\xe2\\xc0t\\x06\\xd7\\xe9\\r{\\xb8gP\\xe9\\xc5\\xda[\\xcf\\xd4\\x9e\\xfd\\xd3c\\xa4\\xd2\\xc9\\x82\\x16;\\xef\\xaa\\xbc1\\xa5\\x97i\\x8c\\x0c\\x9c\\xdf\\xb6\\xee\\x95\\xd4bB\"\\xfe\\x06`\\x0c\\xe1\\xf3\\xfc\\x04\\xc7r\\xd6\\xd1\\xdf\\xbd\\x85\\xc6\\xd5.\\xf1Z\\xee\\xe8\\xb0\\x0c|\\xcf~\\x85t\\x142\\xdc\\xe7\\xc6\\x1b\\xd1_\\x0b\\x92\\xda.ZJ;\\xad\\x99\\xd0\\x0e\\x93$%\\xdb\\x87\\x86w\\t\\x19\\x94@\\x1eS+8\\xf2 z\\xb4o\\x1b\\x04b>\\xb8\\xc4h\\xc7\\x92\\xf2Z~\\xb7\\xc19\\x13Z\\x15\\x9bs\\xc8&3%\\xc2Y\\x1e\\x9a\\xcc\\xf6\\x1aEVy\\xf5c\\xfb\\x82-\\xce\\xb2%\\x02\\xb1z\\xb1\\\\\\xc0\\xaf\\xefRD+\\xe1\\xeb?{tj\\xe7\\x11\\xf3\\x02\\x93y\\x1d'\n",
            "A recieves cipher text, generates same shared key \n",
            "\n",
            "A's key sharing successful \n",
            "\n",
            "--------------------------\n",
            "*** User B Key Sharing ***\n",
            "-------------------------- \n",
            "\n",
            "B generates public-private key pair \n",
            "\n",
            "B sends public key over the internet \n",
            "\n",
            "Public Key:  b\"q\\xc3\\x92TX|\\xe0\\xe8o\\xae{\\xa2\\xe2\\xb5\\x9f\\x89T\\xb3\\x9a|C\\x97\\x085\\xa0\\xc8;\\xc8\\xc7\\x80\\x9e*\\x92\\xa40\\x94\\xca\\xd1\\x88_\\xf3\\x18\\x01(G\\xfb\\xf9T}\\xe7D\\r\\x87\\x94\\xf5H\\xcc\\xd6\\x18\\xba<\\xe6\\xb42\\xa8\\xcd:1xU\\t\\x91\\x95\\x1a4\\xf7\\xeb\\x86\\x7fj\\xa30\\xbb\\x82wV\\xa0$\\xf2]\\xe7\\x12\\x17\\xa2\\xc985'&\\xbe\\x14\\xc2\\xd8uN\\x94\\t5]{\\xa9\\xb3\\x81\\xc41\\xfc\\x14\\xd9\\xd0%\\x7f\\xcb\\xaf\\x00\\x05\\xb3\\xea\\xda\\xc9\\xbd\\xe9\\xcd\\xfe\\xf6\\\\aa\\x81?\\x90\\xc8BSb,\\xb1\\x8c\\x00@!\\x91|O\\x16\\xf2e*G\\x9e\\x0b\\xc7\\x9e\\xe4|\\xb5fE\\xa3\\xe8s\\\\\\xceW\\xa3\\x05\\xac\\x84\\x94\\x13\\xabL\\x1a\\x1e1\\x0b\\xba\\x07:z\\n\\xa7}\\x17U@\\xee\\x86rTY\\xaa\\x06;x\\x8dbB*\\xc5z\\xad\\xf7\\x0f\\xc5\\x86\\nmIj%Z7\\xdc\\x08\\xc6\\x8f@@g\\x1a\\xb6\\xc8\\x02\\xa9\\x11\\xe64%T\\x1a>\\xf1|\\x91\\xa4\\xc5\\xf7:\\x88[\\xf2\\x9b\\x0c$\\xcb@\\x03\\xa5;&\\x1e!\\xa5;4\\xd3b\\xa8$K\\x9d4\\x12\\x85\\xb4\\x03h[Xi6^s\\x94\\x18\\x81\\xa6l]\\xc6+t\\x15\\xb5\\x010\\xcads(W\\x03?\\x89\\x19'\\x12v\\x1b\\x17*\\xa5\\x9d\\xcc\\x01\\xc3w\\x87e\\xd9H\\x86\\x84{Z\\xcbm\\xd3\\\\[\\x84\\xf5\\x9a\\xfa\\xea]+sFD;X\\x1e\\x81T+\\xe9\\x01$i\\xbd\\xc01V\\x9a\\xd8\\x03\\x0e\\xe3\\xc4e\\xa13\\x9e%'\\x9dI(L\\xfc\\x05\\x1f\\xb961\\x91\\n\\xd7\\x95\\xac\\x94q\\x9b\\x92\\x94o\\xb5\\x83\\x13\\xf8\\x1ai\\x82v\\x0b\\xfcV\\xca\\xdbG\\x8f\\x07\\xa2q\\xe5y>\\x9fKH\\xf5\\x8bVyL\\x1e\\xe5\\x1aI\\xbe\\xc0\\xa2&T\\xbd^\\xf6\\xc3\\xd7\\xa2\\xb1\\xd8\\x83\\x9d\\xcfz}J\\xd8\\xc5\\x01\\xfau\\x0b\\xdb\\x94\\xab\\xc4c\\x12\\xbc\\\\m\\xda\\xa9r(4\\x80\\x07\\x04\\xc8\\xd3\\xbc\\xb2\\xf4s\\xbb\\\\\\r\\xc8R3Y\\xbbK6#IlB \\x80Vq\\xb8!6M\\xfc\\xa0>uf\\xd7\\xcc\\x17J\\xc4\\xaa\\xfa\\x81\\xa9\\xdb('l\\x89\\x8d\\xb8\\x99f\\x8b\\x942\\xfe\\xc4\\x1e\\xdb\\xc8_\\x15:c\\x15\\x9c\\xb3j\\xb6\\x8c\\xdc\\xf2\\xb5L\\x96r\\x99\\xf3$\\xa4s\\xa4#\\xa7.\\xfb1\\t\\xc2\\xc8\\x1cr\\xeb\\x97b:\\xad\\xee\\xd4P\\xc8\\xd3\\x9d\\xd5Ti\\xea\\xe3\\x17\\x1c\\x1c\\xc4\\xdbv\\xcfE\\x83c\\xd6\\x9b3\\x8c*2-\\x07\\xa9u\\x04\\x9c'\\xdb\\x04g\\x99Kj\\x05\\xad\\xbcbE\\xd9H48\\xd2Nz\\xe1\\x1aGV\\xb8\\xfc\\xa0\\x10L%\\xb3\\x7f\\xd7\\x89z7\\x92X\\xdb%A\\xf8!\\xf7\\x12$\\x15|\\xcd\\xc9[<\\xc5\\xc8\\xb8\\xaf\\xf9\\x8a\\xe7\\x9a\\x02\\xed bH\\x8b \\x07\\xaa\\xb6\\x84\\xf4Yl\\xa5\\xbbQ\\xa3\\xaf\\xc1\\xd7S\\xae\\xe3\\x87$\\xb9\\xa72\\tp\\x05F\\x1a8\\x1c\\x1c\\x0b\\xb5Ek\\xe7\\x08w\\xe0\\x1bv\\xd3\\xa29i\\x9c\\x95\\xc0\\xa2\\xa6\\xca\\xb3\\x1b\\x019\\xcd$\\x13\\xf56\\x85\\xfcz\\x16\\x80i\\xb2c\\xdc\\x91+V\\x1f\\xa3\\x97\\xaf\\xf9\\xec\\x0f\\xe9\\xe8\\xaf/\\x14<\\x91Q/\\xcc \\x13\\x9d\\x824i6\\x05\\x83\\xb8W\\xff\\xb4\\xb0\\xcd\\xa6\\xc5!\\x8b]\\xf3%)\\xca\\x80\\xd3&\\x83Y^\\xeb\\xef\\x9a8D\\xcbz\\xca\\xee\\x9d\\xea\\xb4W,\\x8e]M\\xc6}|\\xeds9\\xca\\xa4\"\n",
            "A recieves B's public key, generates cipher text and shared key \n",
            "\n",
            "A sends cipher text to B \n",
            "\n",
            "Cipher Text:  b'\\xea\\xff\\x0f\\xe8\\xc1\\xe5\\xb9\\xc9\\xe8a\\xc5\\x087\\xb2qr\\x97\\x89\\nY\\xf8\\xaaQw\\x9b\\xde\\\\\\xb7qGL\\xa8\\x13\\x1fQR\\x8b\\xe6aH\\x82L\\xd3\\x1e\\x88g7}f\\x9b\\x9e\\xa9_\\xc5\\xa6f\\xc01\\x1a\\xf7v\\xb3\\xa8\\x82\\xa3Z\\xb0\\xd1\\x84\\x15\\x8e)\\x9a\\xfe\\xe6\\xef(x\\x9c\\xfc\\x9d\\xc7\\xc4,5\\xdfx\\x11e\\x04\\xe7\\x17\\x98\\x03\\x82\\x97\\xb2\\xf1\\x15\\xcfZ\\xb0\\x8d\\x87\\x8bq(/\\x99\\xa3\\xcf\\xbc\\xf0\\x01\\x895F\\x83\\x8a\\x04\\x07\\x0f\\x1az=F!J\\x9c\\xfeJ\\xfa?F\\xc7Ko\\xc8\\xa65tm \\xafT\\xc8\\xc5\\x9cge\\x82o\\x1a3cL\\x82\\xd2\\xf7\\x95\\x0c]<\\x86+\\xaeTy\\xc6\\r@\\xd6R[fW\\xef\\x15\\xb5\\xf29v\\xc2?c\\x15\\x05d\\xf1+6\\xdf_\\xfd\\xc1\\xa5}D\\\\h\\'7\\xb8\\xf5\\xd2\\xdb\\xedi\\xe6\\xf1.RYjN\\xfa\\x19\\xafxg\\t\\xb6*\\xbb\\xf2\\xddi_\\xc0\\xbf\\xd6E\\xe5\\x990\\x19D\\x8e\\x17\\xc3\\xa7(\\xdb\\xebo\\r\\x89\\xfc\\xb7N\\x881\\xad\\x7f\\x88\\\\\\xe5\\xc7}r\\xc5Nd\\xc1%\\xc9\\xc0\\x95\\xc3o\\xeb\\x04\\x94\\x06\\xde\\x94\\x8e5d\\xb6\\xe6e\\xc3[\\xfc1\\xed\\x875\\xd4\\xa3}\\xb0oUp\\x83\\xba\\x1a\\x12\\xf9nk\\x93\\t\\x1d\\xc3IEBq\\xdf\\xb0\\xc8xE.\\x0f\\xab\\xd9\\'\\x1cL\\xa4\\xe7\\xb6\\xe2\\xef\\xfe\\x02!\\x8d\\xa9K\\xe5\\xbd\\xa9\\xf7H\\xdd\\xae\\xff\\x10\\xdf\\xa1t\\xb6\\xd7\\x82v\\x8fM\\xf0\\x04\\xde\\x93\\x94D8Z2\\x16\\xa3\\xada\\x00S\\xfc\\xf6\\xdd#\\xc5\\x15\\xfb\\xf7\\x8c#\\xc8;\\xef\\xe8o\\x95\\xeb\\xaa=\\xa5\\xa5\\x1fw{S\\x84\\x97\\xa3\\x19\\xe0\\xf7I\\x11\\xb6\\xc0\\xbe\\xa8i\\xdew\\x03w\\x0f\\xa2\\x80`\\xd7Dy\\x07?\\xf0\\xa1\\xec_\\x87}0\\x18\\x19\\x07\\xa1\\xa9\\xc9\\xbfrt\\xf9Y\\xd5\\xbf\\n\\xba\\xc4\\xfc}\\xd6\\xee\":j{v.\\x0c\\xfd\\xc0\\x9c\\xb4=\\xea\\xc1\\xa760\\xe2E\\xd5\\xc2$N2~\\x83\\x07\\xb1\\x07\\xae\\n\\x17=\\x06\\x08Z\\xcf|#\\xe1z\\x1b\\xcdW\\xf5\\x10x+*/\\xd7\\x83.\\x9cqC\\x1c\\xac]\\x0f\\xf0a\\x93\\rM`m\\x9a\\x90\\x08\\\\\\xc1xnT\\x99\\xaf-\\x8a\\xfc\\xe7\\x19\\xf6/\\x7f\\x0b\\xa9\\xfb@\\x00#\\xb3\\'\\xceoZz\\xff\\xd6\\xc7\\x1a{\\x9fw]\\x9a$5\\x8d\\x8f\\x1c\\xd4\\xb7m\\x92N\\x8b\\x02\\t:\\x9dL\\xe2\\x1e\\xef\\xe9\\xae\\xed\\xd5\\x01)l\\x1c\\xeb\\x88`Ti\\x17\\x98K\\xc3\\xb7S\\x94\\xed\\xc4\\xadx[J\\x97^J\\x9a\\xafD\\xa2L\\x7f\\xb8\\xe9\\xa9\\x1d\\xb7I\\x96\\x06\\xa9\\xda\\xa9\\xa0\\\\\\xbe\\xb4Y\\xf9\\xbc\\xa2y\\xb8\\xf5\\xae\\x90\\x88\\xaf\\t\\xd9\\xe1\\xe3Fdd\\x1c\\xcf\\xfeVdo\\xe5\\x19_\\xfb\\x91\\xa7\\xc0\\xc2\\xb8m\\x9fg\\xe0\\xe6I\\xe6\\x9a\\xbb\\x14ti \\xb8D3\\x15\\xd4Y\\xae\\x1b\\xb1\\xa4\\xaf|+<\\x9dYH\\x81\\xb5\\x05\\\\\\xe4\\xf0\\x9b\\x87\\x17\\x15\\xd0>;Cv\\xbf\\xd8\\xf9\\xfa\\rD\\x1f\\xcf\\x7f$XZ\\x07\\xc2\\xec\\x14*\\x00\\xd2g\\x80\\xad\\x03\\x8b\\x88=\\xf4\\x8eN\\x8c_\\xdd\\xa3\\xdd\\x03\\xfdn\\xc0\\xfc\\xa8;\\x9d\\x85\\x81\\xa7_\\x04;_\\xec\\x92M\\xbfA\\xacP\\x14x\\xe9\\xbe\\xa1\\xe5-n\\x9b\\xc0\\x97\\xe8\\x91c'\n",
            "B recieves cipher text, generates same shared key \n",
            "\n",
            "B's Key sharing successful \n",
            "\n",
            "Kyber Key Sharing Successful \n",
            "\n",
            "---------------\n",
            "*** SIGN IN *** \n",
            "---------------\n",
            "\n",
            "Choose 'A' or 'B' \n",
            "\n",
            "User : A\n",
            "\n",
            "------------------------------------\n",
            "*** FILE ENCRYPTION & DECRYPTION *** \n",
            "------------------------------------\n",
            "\n",
            "Encryption : 'e'  |  Decryption : 'd'  |  Quit : 'q' \n",
            "\n",
            "Option : e\n",
            "File Path : /content/message.txt\n",
            "\n",
            "Signature:  b'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'\n",
            "\n",
            "Encryption Successfull \n",
            "\n",
            "Encrypted file saved as /content/drive/MyDrive/Task2/backup/message.txt.enc \n",
            "\n",
            "Signing Out User  A\n",
            "\n",
            "---------------\n",
            "*** SIGN IN *** \n",
            "---------------\n",
            "\n",
            "Choose 'A' or 'B' \n",
            "\n",
            "User : B\n",
            "\n",
            "------------------------------------\n",
            "*** FILE ENCRYPTION & DECRYPTION *** \n",
            "------------------------------------\n",
            "\n",
            "Encryption : 'e'  |  Decryption : 'd'  |  Quit : 'q' \n",
            "\n",
            "Option : d\n",
            "File Path: /content/drive/MyDrive/Task2/backup/message.txt.enc\n",
            "\n",
            "Decryption successful \n",
            "\n",
            "Digital Signature verified\n",
            "Data has not been tampered \n",
            "\n",
            "Decrypted file saved as /content/message.txt.dec \n",
            "\n",
            "Signing Out User  B\n",
            "\n",
            "---------------\n",
            "*** SIGN IN *** \n",
            "---------------\n",
            "\n",
            "Choose 'A' or 'B' \n",
            "\n",
            "User : B\n",
            "\n",
            "------------------------------------\n",
            "*** FILE ENCRYPTION & DECRYPTION *** \n",
            "------------------------------------\n",
            "\n",
            "Encryption : 'e'  |  Decryption : 'd'  |  Quit : 'q' \n",
            "\n",
            "Option : q\n",
            "Exiting the program \n",
            "\n"
          ]
        }
      ],
      "source": [
        "import os\n",
        "\n",
        "def main():\n",
        "  print(\"------------------------------------\")\n",
        "  print(\"*** FILE ENCRYPTION & DECRYPTION *** \")\n",
        "  print(\"------------------------------------\\n\")\n",
        "\n",
        "  print(\"Kyber Key Sharing \\n\")\n",
        "\n",
        "  # kyber key sharing\n",
        "  keyA, keyB = kyber_key_sharing()\n",
        "\n",
        "  print(\"Kyber Key Sharing Successful \\n\")\n",
        "\n",
        "  while True:\n",
        "    print(\"---------------\")\n",
        "    print(\"*** SIGN IN *** \")\n",
        "    print(\"---------------\\n\")\n",
        "\n",
        "    print(\"Choose 'A' or 'B' \\n\")\n",
        "\n",
        "    user = input(\"User : \").strip().upper()\n",
        "    print(\"\")\n",
        "\n",
        "    if user not in ['A', 'B']:\n",
        "      print(\"Invalid user \\n\")\n",
        "      continue\n",
        "\n",
        "    print(\"------------------------------------\")\n",
        "    print(\"*** FILE ENCRYPTION & DECRYPTION *** \")\n",
        "    print(\"------------------------------------\\n\")\n",
        "\n",
        "    print(\"Encryption : 'e'  |  Decryption : 'd'  |  Quit : 'q' \\n\")\n",
        "\n",
        "    choice = input(\"Option : \").strip().lower()\n",
        "\n",
        "    if choice == 'e':\n",
        "      filename = input(\"File Path : \").strip()\n",
        "      print(\"\")\n",
        "\n",
        "      # validate filename\n",
        "      if not os.path.isfile(filename):\n",
        "        print(f\"File '{filename}' does not exist \\n\")\n",
        "        continue\n",
        "\n",
        "        # encrypt based on user\n",
        "      if user == 'A':\n",
        "        encrypt_file(filename, user, keyA)\n",
        "      elif user == 'B':\n",
        "        encrypt_file(filename, user, keyB)\n",
        "      else:\n",
        "        print(\"Invalid user \\n\")\n",
        "\n",
        "    elif choice == 'd':\n",
        "      filename = input(\"File Path: \").strip()\n",
        "      print(\"\")\n",
        "\n",
        "      # validate filename\n",
        "      if not os.path.isfile(filename):\n",
        "        print(f\"File '{filename}' does not exist \\n\")\n",
        "        continue\n",
        "\n",
        "      # decrypt files\n",
        "      decrypt_file(filename, keyA, keyB, public_key)\n",
        "\n",
        "    elif choice == 'q':\n",
        "      print(\"Exiting the program \\n\")\n",
        "      break\n",
        "\n",
        "    else:\n",
        "      print(\"Invalid choice \\n\")\n",
        "\n",
        "    print(\"Signing Out User \", user)\n",
        "    print(\"\")\n",
        "\n",
        "if __name__ == \"__main__\":\n",
        "  main()"
      ]
    }
  ],
  "metadata": {
    "colab": {
      "provenance": []
    },
    "kernelspec": {
      "display_name": "Python 3",
      "name": "python3"
    },
    "language_info": {
      "name": "python"
    }
  },
  "nbformat": 4,
  "nbformat_minor": 0
}